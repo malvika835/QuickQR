{
 "cells": [
  {
   "cell_type": "code",
   "execution_count": 32,
   "metadata": {},
   "outputs": [
    {
     "name": "stdout",
     "output_type": "stream",
     "text": [
      "Requirement already satisfied: tk in c:\\users\\tanya kapoor\\anaconda3\\lib\\site-packages (0.1.0)\n",
      "Requirement already satisfied: qrcode in c:\\users\\tanya kapoor\\anaconda3\\lib\\site-packages (7.3.1)\n",
      "Requirement already satisfied: colorama; platform_system == \"Windows\" in c:\\users\\tanya kapoor\\anaconda3\\lib\\site-packages (from qrcode) (0.4.3)\n"
     ]
    }
   ],
   "source": [
    "!pip install tk\n",
    "!pip install qrcode"
   ]
  },
  {
   "cell_type": "code",
   "execution_count": 34,
   "metadata": {},
   "outputs": [],
   "source": [
    "import qrcode\n",
    "from tkinter import *\n",
    "from tkinter import messagebox"
   ]
  },
  {
   "cell_type": "code",
   "execution_count": 35,
   "metadata": {},
   "outputs": [],
   "source": [
    "#creating a window\n",
    "wn=Tk()\n",
    "wn.title('QuickQR')\n",
    "wn.geometry('700x700')\n",
    "wn.config(bg='SteelBlue3')"
   ]
  },
  {
   "cell_type": "code",
   "execution_count": 36,
   "metadata": {},
   "outputs": [],
   "source": [
    "#Label for the window\n",
    "headingFrame = Frame(wn,bg=\"azure\",bd=5)\n",
    "headingFrame.place(relx=0.15,rely=0.05,relwidth=0.7,relheight=0.1)\n",
    "headingLabel = Label(headingFrame, text=\"Generate QR Code with QuickQR\", bg='azure', font=('Times',20,'bold'))\n",
    "headingLabel.place(relx=0,rely=0, relwidth=1, relheight=1)\n"
   ]
  },
  {
   "cell_type": "code",
   "execution_count": 37,
   "metadata": {},
   "outputs": [],
   "source": [
    "#Taking the input of the text or URL to get QR code\n",
    "Frame1 = Frame(wn,bg=\"SteelBlue3\")\n",
    "Frame1.place(relx=0.1,rely=0.15,relwidth=0.7,relheight=0.3)\n",
    "label1 = Label(Frame1,text=\"Enter the text/URL: \",bg=\"SteelBlue3\",fg='azure',font=('Courier',13,'bold'))\n",
    "label1.place(relx=0.05,rely=0.2, relheight=0.08)\n",
    "text = Entry(Frame1,font=('Century 12'))\n",
    "text.place(relx=0.05,rely=0.4, relwidth=1, relheight=0.2)"
   ]
  },
  {
   "cell_type": "code",
   "execution_count": 38,
   "metadata": {},
   "outputs": [],
   "source": [
    "#Getting input of the location to save QR Code\n",
    "Frame2 = Frame(wn,bg=\"SteelBlue3\")\n",
    "Frame2.place(relx=0.1,rely=0.35,relwidth=0.7,relheight=0.3)\n",
    "label2 = Label(Frame2,text=\"Enter the location to save the QR Code: \",bg=\"SteelBlue3\",fg='azure',font=('Courier',13,'bold'))\n",
    "label2.place(relx=0.05,rely=0.2, relheight=0.08)\n",
    "loc = Entry(Frame2,font=('Century 12'))\n",
    "loc.place(relx=0.05,rely=0.4, relwidth=1, relheight=0.2)"
   ]
  },
  {
   "cell_type": "code",
   "execution_count": 39,
   "metadata": {},
   "outputs": [],
   "source": [
    "#Getting input of the QR Code image name\n",
    "Frame3 = Frame(wn,bg=\"SteelBlue3\")\n",
    "Frame3.place(relx=0.1,rely=0.55,relwidth=0.7,relheight=0.3)\n",
    "label3 = Label(Frame3,text=\"Enter the name of the QR Code: \",bg=\"SteelBlue3\",fg='azure',font=('Courier',13,'bold'))\n",
    "label3.place(relx=0.05,rely=0.2, relheight=0.08)\n",
    "name = Entry(Frame3,font=('Century 12'))\n",
    "name.place(relx=0.05,rely=0.4, relwidth=1, relheight=0.2)"
   ]
  },
  {
   "cell_type": "code",
   "execution_count": 40,
   "metadata": {},
   "outputs": [],
   "source": [
    "#Getting the input of the size of the QR Code\n",
    "Frame4 = Frame(wn,bg=\"SteelBlue3\")\n",
    "Frame4.place(relx=0.1,rely=0.75,relwidth=0.7,relheight=0.2)\n",
    "label4 = Label(Frame4,text=\"Enter the size from 1 to 40 with 1 being 21x21: \",bg=\"SteelBlue3\",fg='azure',font=('Courier',13,'bold'))\n",
    "label4.place(relx=0.05,rely=0.2, relheight=0.08)\n",
    "size = Entry(Frame4,font=('Century 12'))\n",
    "size.place(relx=0.05,rely=0.4, relwidth=0.5, relheight=0.2)\n"
   ]
  },
  {
   "cell_type": "code",
   "execution_count": 41,
   "metadata": {},
   "outputs": [],
   "source": [
    "#Button to generate and save the QR Code\n",
    "button = Button(wn, text='Generate Code',font=('Courier',15,'normal'),command=generateCode)\n",
    "button.place(relx=0.35,rely=0.9, relwidth=0.25, relheight=0.05)\n"
   ]
  },
  {
   "cell_type": "code",
   "execution_count": 42,
   "metadata": {},
   "outputs": [],
   "source": [
    "#Function to generate the QR code and save it\n",
    "def generateCode():\n",
    "  #Creating a QRCode object of the size specified by the user\n",
    "  qr = qrcode.QRCode(version = size.get(),\n",
    "            box_size = 10,\n",
    "            border = 5)\n",
    "  qr.add_data(text.get()) #Adding the data to be encoded to the QRCode object\n",
    "  qr.make(fit = True) #Making the entire QR Code space utilized\n",
    "  img = qr.make_image() #Generating the QR Code\n",
    "  fileDirec=loc.get()+'\\\\'+name.get() #Getting the directory where the file has to be save\n",
    "  img.save(f'{fileDirec}.png') #Saving the QR Code\n",
    "  #Showing the pop up message on saving the file\n",
    "  messagebox.showinfo(\"QuickQR\",\"QR Code is saved successfully!\")"
   ]
  },
  {
   "cell_type": "code",
   "execution_count": 44,
   "metadata": {},
   "outputs": [],
   "source": [
    "wn.mainloop()"
   ]
  },
  {
   "cell_type": "code",
   "execution_count": null,
   "metadata": {},
   "outputs": [],
   "source": []
  }
 ],
 "metadata": {
  "kernelspec": {
   "display_name": "Python 3",
   "language": "python",
   "name": "python3"
  },
  "language_info": {
   "codemirror_mode": {
    "name": "ipython",
    "version": 3
   },
   "file_extension": ".py",
   "mimetype": "text/x-python",
   "name": "python",
   "nbconvert_exporter": "python",
   "pygments_lexer": "ipython3",
   "version": "3.8.3"
  }
 },
 "nbformat": 4,
 "nbformat_minor": 4
}
